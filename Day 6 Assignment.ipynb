{
 "cells": [
  {
   "cell_type": "markdown",
   "metadata": {},
   "source": [
    "# Assignment 1"
   ]
  },
  {
   "cell_type": "code",
   "execution_count": 138,
   "metadata": {},
   "outputs": [],
   "source": [
    "class account():\n",
    "    balance=10000\n",
    "    def withdraw(self):\n",
    "        if account.balance >= self:\n",
    "            account.balance = account.balance - self\n",
    "            print(\"Updated Balance:\",account.balance)\n",
    "        else:\n",
    "            print(\"Low Balance: \",account.balance)\n",
    "\n",
    "    def deposit(self):\n",
    "        account.balance = account.balance + self\n",
    "        print(\"Updated Balance: \",account.balance)"
   ]
  },
  {
   "cell_type": "code",
   "execution_count": 139,
   "metadata": {},
   "outputs": [
    {
     "name": "stdout",
     "output_type": "stream",
     "text": [
      "Updated Balance: 8000\n"
     ]
    }
   ],
   "source": [
    "account.withdraw(2000)"
   ]
  },
  {
   "cell_type": "code",
   "execution_count": 140,
   "metadata": {},
   "outputs": [
    {
     "name": "stdout",
     "output_type": "stream",
     "text": [
      "Updated Balance:  9000\n"
     ]
    }
   ],
   "source": [
    "account.deposit(1000)"
   ]
  },
  {
   "cell_type": "markdown",
   "metadata": {},
   "source": [
    "# Assignment 2"
   ]
  },
  {
   "cell_type": "code",
   "execution_count": 159,
   "metadata": {},
   "outputs": [],
   "source": [
    "import math\n",
    "pi=math.pi\n",
    "class cone:\n",
    "    r = 4\n",
    "    h = 5\n",
    "    def volume():\n",
    "        return pi*2*(cone.h/3)\n",
    "        #print(\"Volume is: \", v)\n",
    "    def surface(s):\n",
    "        return pi*cone.r*s+pi*cone.r*cone.r \n",
    "        #print(\"Surface area: \",a)"
   ]
  },
  {
   "cell_type": "code",
   "execution_count": 160,
   "metadata": {},
   "outputs": [
    {
     "data": {
      "text/plain": [
       "10.471975511965978"
      ]
     },
     "execution_count": 160,
     "metadata": {},
     "output_type": "execute_result"
    }
   ],
   "source": [
    "cone.volume()"
   ]
  },
  {
   "cell_type": "code",
   "execution_count": 161,
   "metadata": {},
   "outputs": [
    {
     "data": {
      "text/plain": [
       "113.09733552923255"
      ]
     },
     "execution_count": 161,
     "metadata": {},
     "output_type": "execute_result"
    }
   ],
   "source": [
    "cone.surface(5)"
   ]
  }
 ],
 "metadata": {
  "kernelspec": {
   "display_name": "Python 3",
   "language": "python",
   "name": "python3"
  },
  "language_info": {
   "codemirror_mode": {
    "name": "ipython",
    "version": 3
   },
   "file_extension": ".py",
   "mimetype": "text/x-python",
   "name": "python",
   "nbconvert_exporter": "python",
   "pygments_lexer": "ipython3",
   "version": "3.8.3"
  }
 },
 "nbformat": 4,
 "nbformat_minor": 4
}
